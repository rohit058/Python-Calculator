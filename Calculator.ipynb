{
  "nbformat": 4,
  "nbformat_minor": 0,
  "metadata": {
    "colab": {
      "provenance": []
    },
    "kernelspec": {
      "name": "python3",
      "display_name": "Python 3"
    },
    "language_info": {
      "name": "python"
    }
  },
  "cells": [
    {
      "cell_type": "code",
      "execution_count": 1,
      "metadata": {
        "colab": {
          "base_uri": "https://localhost:8080/"
        },
        "id": "gNro_PCJz0Do",
        "outputId": "015a31c1-94ab-462a-aa42-b4317ac241da"
      },
      "outputs": [
        {
          "output_type": "stream",
          "name": "stdout",
          "text": [
            "Creating calculator using Python!\n",
            "Please enter a number: 50\n",
            "Please enter another number: 5\n",
            "Please enter arithmetic operator to use (+,-,/,*,%): *\n",
            "The product is: 250\n"
          ]
        }
      ],
      "source": [
        "print(\"Creating calculator using Python!\")\n",
        "\n",
        "# Enter two numbers\n",
        "num1 = int(input(\"Please enter a number: \"))\n",
        "num2 = int(input(\"Please enter another number: \"))\n",
        "\n",
        "# Enter an operator\n",
        "operator = input(\"Please enter arithmetic operator to use (+,-,/,*,%): \")\n",
        "\n",
        "\n",
        "# Initialize result,\n",
        "result = 0,\n",
        "\n",
        "def add(num1, num2):\n",
        "  result = num1 + num2\n",
        "  print(\"The sum is:\", result)\n",
        "\n",
        "def subtract(num1, num2):\n",
        "  result = num1 - num2\n",
        "  print(\"The difference is:\", result)\n",
        "\n",
        "def divide(num1, num2):\n",
        "  result = num1 / num2\n",
        "  print(\"The quotient is:\", result)\n",
        "\n",
        "def multiply(num1, num2):\n",
        "  result = num1 * num2\n",
        "  print(\"The product is:\", result)\n",
        "\n",
        "def remainder(num1, num2):\n",
        "  result = num1 % num2\n",
        "  print(\"The remainder is: \", result)\n",
        "\n",
        "if operator == \"+\":\n",
        "  add(num1, num2)\n",
        "elif operator == \"-\":\n",
        "  subtract(num1, num2)\n",
        "elif operator == \"/\":\n",
        "  divide(num1, num2)\n",
        "\n",
        "elif operator == \"*\":\n",
        "  multiply(num1, num2)\n",
        "\n",
        "elif operator == \"%\":\n",
        "  remainder(num1, num2)\n",
        "\n",
        "else:\n",
        "  print(\"Please enter a valid number and listed arithmetic operator...\")"
      ]
    }
  ]
}